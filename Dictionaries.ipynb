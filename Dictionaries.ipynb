{
 "cells": [
  {
   "cell_type": "code",
   "execution_count": 47,
   "id": "73a64ef8-978c-4631-bd03-f0b9da97f5f0",
   "metadata": {},
   "outputs": [],
   "source": [
    "d = {}"
   ]
  },
  {
   "cell_type": "code",
   "execution_count": 48,
   "id": "3e37e13d-579e-4802-b71b-7e0fccc14503",
   "metadata": {},
   "outputs": [
    {
     "data": {
      "text/plain": [
       "dict"
      ]
     },
     "execution_count": 48,
     "metadata": {},
     "output_type": "execute_result"
    }
   ],
   "source": [
    "type(d)\n",
    "\n",
    "#it is mutable object."
   ]
  },
  {
   "cell_type": "code",
   "execution_count": 49,
   "id": "f692245f-dafa-4706-a6c3-7801f6aaeaf8",
   "metadata": {},
   "outputs": [],
   "source": [
    "d1 = {'key' : 'haroon'}"
   ]
  },
  {
   "cell_type": "code",
   "execution_count": 50,
   "id": "17fd899a-c0c5-47e4-9730-f9e104105d66",
   "metadata": {},
   "outputs": [
    {
     "data": {
      "text/plain": [
       "{'key': 'haroon'}"
      ]
     },
     "execution_count": 50,
     "metadata": {},
     "output_type": "execute_result"
    }
   ],
   "source": [
    "d1"
   ]
  },
  {
   "cell_type": "code",
   "execution_count": 51,
   "id": "b9227675-d32b-4333-b293-21a83c0453ef",
   "metadata": {},
   "outputs": [],
   "source": [
    "d2 = {'name' : 'haroon rashid', 'email' : 'haroonabbabsi03@gmail.com', 'Number' : 9045159138}"
   ]
  },
  {
   "cell_type": "code",
   "execution_count": 4,
   "id": "70e55981-3924-4363-9ac2-4caa651aabb0",
   "metadata": {},
   "outputs": [
    {
     "data": {
      "text/plain": [
       "{'name': 'haroon rashid',\n",
       " 'email': 'haroonabbabsi03@gmail.com',\n",
       " 'Number': 9045159138}"
      ]
     },
     "execution_count": 4,
     "metadata": {},
     "output_type": "execute_result"
    }
   ],
   "source": [
    "d2"
   ]
  },
  {
   "cell_type": "code",
   "execution_count": null,
   "id": "a065365b-bcee-4f5a-a970-b3cec2e728d7",
   "metadata": {},
   "outputs": [],
   "source": []
  },
  {
   "cell_type": "code",
   "execution_count": 6,
   "id": "ffe69291-4c4b-41d5-a336-bf6f4b18c8a2",
   "metadata": {},
   "outputs": [
    {
     "ename": "SyntaxError",
     "evalue": "invalid syntax (2970559715.py, line 1)",
     "output_type": "error",
     "traceback": [
      "\u001b[0;36m  Cell \u001b[0;32mIn[6], line 1\u001b[0;36m\u001b[0m\n\u001b[0;31m    d3 = {234 : 'haroon', @gmail : 'rashid'}\u001b[0m\n\u001b[0m                          ^\u001b[0m\n\u001b[0;31mSyntaxError\u001b[0m\u001b[0;31m:\u001b[0m invalid syntax\n"
     ]
    }
   ],
   "source": [
    "d3 = {234 : 'haroon', @gmail : 'rashid'}"
   ]
  },
  {
   "cell_type": "code",
   "execution_count": 7,
   "id": "6cafa439-58ef-49c8-9a45-8fad44e28921",
   "metadata": {},
   "outputs": [
    {
     "ename": "NameError",
     "evalue": "name '_gmail' is not defined",
     "output_type": "error",
     "traceback": [
      "\u001b[0;31m---------------------------------------------------------------------------\u001b[0m",
      "\u001b[0;31mNameError\u001b[0m                                 Traceback (most recent call last)",
      "Cell \u001b[0;32mIn[7], line 1\u001b[0m\n\u001b[0;32m----> 1\u001b[0m d3 \u001b[38;5;241m=\u001b[39m {\u001b[38;5;241m234\u001b[39m : \u001b[38;5;124m'\u001b[39m\u001b[38;5;124mharoon\u001b[39m\u001b[38;5;124m'\u001b[39m, \u001b[43m_gmail\u001b[49m : \u001b[38;5;124m'\u001b[39m\u001b[38;5;124mrashid\u001b[39m\u001b[38;5;124m'\u001b[39m}\n",
      "\u001b[0;31mNameError\u001b[0m: name '_gmail' is not defined"
     ]
    }
   ],
   "source": [
    "d3 = {234 : 'haroon', _gmail : 'rashid'}"
   ]
  },
  {
   "cell_type": "code",
   "execution_count": null,
   "id": "65ca4ca8-b6d9-450d-a9df-c13609d45185",
   "metadata": {},
   "outputs": [],
   "source": []
  },
  {
   "cell_type": "code",
   "execution_count": 52,
   "id": "020bc959-83dd-47a2-8158-d1bf696f869a",
   "metadata": {},
   "outputs": [],
   "source": [
    "d3 = {234 : 'haroon', '@gmail' : 'rashid', True : 4546}"
   ]
  },
  {
   "cell_type": "code",
   "execution_count": 11,
   "id": "146ab1a2-4a41-4a03-8244-39ca16424033",
   "metadata": {},
   "outputs": [
    {
     "data": {
      "text/plain": [
       "{234: 'haroon', '@gmail': 'rashid', True: 4546}"
      ]
     },
     "execution_count": 11,
     "metadata": {},
     "output_type": "execute_result"
    }
   ],
   "source": [
    "d3"
   ]
  },
  {
   "cell_type": "code",
   "execution_count": 14,
   "id": "919f56f0-80c3-45f6-970a-6da4bb34944b",
   "metadata": {},
   "outputs": [
    {
     "data": {
      "text/plain": [
       "'haroon'"
      ]
     },
     "execution_count": 14,
     "metadata": {},
     "output_type": "execute_result"
    }
   ],
   "source": [
    "d3[234]  #here we get value through key. "
   ]
  },
  {
   "cell_type": "code",
   "execution_count": 15,
   "id": "1ea90248-890b-436b-9204-ab9f30b431cf",
   "metadata": {},
   "outputs": [
    {
     "data": {
      "text/plain": [
       "4546"
      ]
     },
     "execution_count": 15,
     "metadata": {},
     "output_type": "execute_result"
    }
   ],
   "source": [
    "d3[True]"
   ]
  },
  {
   "cell_type": "code",
   "execution_count": 16,
   "id": "03bfebc1-a421-452e-9805-39dca9eb4c0d",
   "metadata": {},
   "outputs": [
    {
     "data": {
      "text/plain": [
       "4546"
      ]
     },
     "execution_count": 16,
     "metadata": {},
     "output_type": "execute_result"
    }
   ],
   "source": [
    "d3[1]"
   ]
  },
  {
   "cell_type": "code",
   "execution_count": null,
   "id": "0648c738-9f13-4f60-baf1-38e0571c462b",
   "metadata": {},
   "outputs": [],
   "source": []
  },
  {
   "cell_type": "code",
   "execution_count": null,
   "id": "e9a0a324-1926-473e-8008-fa23065f2353",
   "metadata": {},
   "outputs": [],
   "source": []
  },
  {
   "cell_type": "code",
   "execution_count": 53,
   "id": "3aa7a10c-a5a3-4e83-b0a5-5bf321478f36",
   "metadata": {},
   "outputs": [],
   "source": [
    "d4 = {'name' : 'haroon', 'email' : 'haroonabbabsi03@gmail.com', 'name' : 'haroonrashid'}\n",
    "\n",
    "# Key should be unique and most last value, we'll get value & forget all previous similar value. "
   ]
  },
  {
   "cell_type": "code",
   "execution_count": 11,
   "id": "cc6e5283-0d98-4b71-ba00-0a70dbd245fe",
   "metadata": {},
   "outputs": [
    {
     "data": {
      "text/plain": [
       "{'name': 'haroonrashid', 'email': 'haroonabbabsi03@gmail.com'}"
      ]
     },
     "execution_count": 11,
     "metadata": {},
     "output_type": "execute_result"
    }
   ],
   "source": [
    "d4"
   ]
  },
  {
   "cell_type": "code",
   "execution_count": 12,
   "id": "37dd2a4f-190f-4619-bc0d-3a10f3b6104b",
   "metadata": {},
   "outputs": [
    {
     "data": {
      "text/plain": [
       "'haroonrashid'"
      ]
     },
     "execution_count": 12,
     "metadata": {},
     "output_type": "execute_result"
    }
   ],
   "source": [
    "d4['name']"
   ]
  },
  {
   "cell_type": "code",
   "execution_count": 54,
   "id": "16f6eb10-5a8c-482a-a639-35ca488c2aff",
   "metadata": {},
   "outputs": [],
   "source": [
    "d5 = {'company' : 'pwskills', 'course' : ['web dev', 'data science', 'java with dsa system design']}"
   ]
  },
  {
   "cell_type": "code",
   "execution_count": 8,
   "id": "8012be1b-9aa5-47c1-b3f4-442b0f708801",
   "metadata": {},
   "outputs": [
    {
     "data": {
      "text/plain": [
       "{'company': 'pwskills',\n",
       " 'course': ['web dev', 'data science', 'java with dsa system design']}"
      ]
     },
     "execution_count": 8,
     "metadata": {},
     "output_type": "execute_result"
    }
   ],
   "source": [
    "d5"
   ]
  },
  {
   "cell_type": "code",
   "execution_count": 7,
   "id": "53c0a811-c3aa-4b29-8e20-f3e9110e4933",
   "metadata": {},
   "outputs": [
    {
     "data": {
      "text/plain": [
       "'java with dsa system design'"
      ]
     },
     "execution_count": 7,
     "metadata": {},
     "output_type": "execute_result"
    }
   ],
   "source": [
    "d5['course'][2]"
   ]
  },
  {
   "cell_type": "code",
   "execution_count": null,
   "id": "baaa2354-2c17-4a85-ad5a-ea27c4adce87",
   "metadata": {},
   "outputs": [],
   "source": []
  },
  {
   "cell_type": "code",
   "execution_count": null,
   "id": "20efd616-f842-47e9-93ea-97d781bb5462",
   "metadata": {},
   "outputs": [],
   "source": []
  },
  {
   "cell_type": "code",
   "execution_count": null,
   "id": "a6886806-f95c-4273-b018-a87d43268877",
   "metadata": {},
   "outputs": [],
   "source": []
  },
  {
   "cell_type": "code",
   "execution_count": 55,
   "id": "dc37ced8-a590-43a6-9768-14cc95f19790",
   "metadata": {},
   "outputs": [],
   "source": [
    "d6 = {'number' : [2,34,3,34,34], 'assignment' : (1,2,3,4,5,6), 'launch_date' : {28,12,14}, 'class_time' : {'web dev' : 8, 'data science' : 8, \"java with dsa system design\" : 7}}\n",
    "\n",
    "\n",
    "# Nesting can be done."
   ]
  },
  {
   "cell_type": "code",
   "execution_count": 22,
   "id": "f9fd395e-a202-468c-b045-a06d9b747554",
   "metadata": {},
   "outputs": [
    {
     "data": {
      "text/plain": [
       "{'number': [2, 34, 3, 34, 34],\n",
       " 'assignment': (1, 2, 3, 4, 5, 6),\n",
       " 'launch_date': {12, 14, 28},\n",
       " 'class_time': {'web dev': 8,\n",
       "  'data science': 8,\n",
       "  'java with dsa system design': 7}}"
      ]
     },
     "execution_count": 22,
     "metadata": {},
     "output_type": "execute_result"
    }
   ],
   "source": [
    "d6"
   ]
  },
  {
   "cell_type": "code",
   "execution_count": 24,
   "id": "4130c99c-ffe1-49c5-a845-d57106f66182",
   "metadata": {},
   "outputs": [
    {
     "data": {
      "text/plain": [
       "{'web dev': 8, 'data science': 8, 'java with dsa system design': 7}"
      ]
     },
     "execution_count": 24,
     "metadata": {},
     "output_type": "execute_result"
    }
   ],
   "source": [
    "d6['class_time']"
   ]
  },
  {
   "cell_type": "code",
   "execution_count": 25,
   "id": "15e8e989-36a5-4d87-9a80-297149006558",
   "metadata": {},
   "outputs": [
    {
     "data": {
      "text/plain": [
       "7"
      ]
     },
     "execution_count": 25,
     "metadata": {},
     "output_type": "execute_result"
    }
   ],
   "source": [
    "d6['class_time']['java with dsa system design']"
   ]
  },
  {
   "cell_type": "code",
   "execution_count": 26,
   "id": "f3382ec6-e484-4f8d-979e-83b123baa429",
   "metadata": {},
   "outputs": [
    {
     "data": {
      "text/plain": [
       "{'number': [2, 34, 3, 34, 34],\n",
       " 'assignment': (1, 2, 3, 4, 5, 6),\n",
       " 'launch_date': {12, 14, 28},\n",
       " 'class_time': {'web dev': 8,\n",
       "  'data science': 8,\n",
       "  'java with dsa system design': 7}}"
      ]
     },
     "execution_count": 26,
     "metadata": {},
     "output_type": "execute_result"
    }
   ],
   "source": [
    "d6"
   ]
  },
  {
   "cell_type": "code",
   "execution_count": 56,
   "id": "d969fece-46f0-4b80-aac0-d5bae05102c6",
   "metadata": {},
   "outputs": [],
   "source": [
    "d6['mentor'] = ['sudhanshu','krish', 'anurag', 'haider']"
   ]
  },
  {
   "cell_type": "code",
   "execution_count": 28,
   "id": "10776aa8-d51a-4ac8-b922-ad9be9f6d797",
   "metadata": {},
   "outputs": [
    {
     "data": {
      "text/plain": [
       "{'number': [2, 34, 3, 34, 34],\n",
       " 'assignment': (1, 2, 3, 4, 5, 6),\n",
       " 'launch_date': {12, 14, 28},\n",
       " 'class_time': {'web dev': 8,\n",
       "  'data science': 8,\n",
       "  'java with dsa system design': 7},\n",
       " 'mentor': ['sudhanshu', 'krish', 'anurag', 'haider']}"
      ]
     },
     "execution_count": 28,
     "metadata": {},
     "output_type": "execute_result"
    }
   ],
   "source": [
    "d6"
   ]
  },
  {
   "cell_type": "code",
   "execution_count": 29,
   "id": "dce32f6e-be01-45b2-b4ec-90a98b0e3416",
   "metadata": {},
   "outputs": [],
   "source": [
    "d6['number'] = [1,245,989]    #her, It updates the distionary bcz this key is aleardy there."
   ]
  },
  {
   "cell_type": "code",
   "execution_count": 30,
   "id": "c8799695-3ea1-4fa9-95a1-544b6c3ccff3",
   "metadata": {},
   "outputs": [
    {
     "data": {
      "text/plain": [
       "{'number': [1, 245, 989],\n",
       " 'assignment': (1, 2, 3, 4, 5, 6),\n",
       " 'launch_date': {12, 14, 28},\n",
       " 'class_time': {'web dev': 8,\n",
       "  'data science': 8,\n",
       "  'java with dsa system design': 7},\n",
       " 'mentor': ['sudhanshu', 'krish', 'anurag', 'haider']}"
      ]
     },
     "execution_count": 30,
     "metadata": {},
     "output_type": "execute_result"
    }
   ],
   "source": [
    "d6"
   ]
  },
  {
   "cell_type": "code",
   "execution_count": 31,
   "id": "b155f4fe-9e7a-4fb4-bd31-d53c14927a5b",
   "metadata": {},
   "outputs": [],
   "source": [
    "del d6['number']"
   ]
  },
  {
   "cell_type": "code",
   "execution_count": 32,
   "id": "73dfd2ac-79f9-4e00-a224-68afc7f12fcf",
   "metadata": {},
   "outputs": [
    {
     "data": {
      "text/plain": [
       "{'assignment': (1, 2, 3, 4, 5, 6),\n",
       " 'launch_date': {12, 14, 28},\n",
       " 'class_time': {'web dev': 8,\n",
       "  'data science': 8,\n",
       "  'java with dsa system design': 7},\n",
       " 'mentor': ['sudhanshu', 'krish', 'anurag', 'haider']}"
      ]
     },
     "execution_count": 32,
     "metadata": {},
     "output_type": "execute_result"
    }
   ],
   "source": [
    "d6"
   ]
  },
  {
   "cell_type": "code",
   "execution_count": 33,
   "id": "44055a74-58f1-4b23-b25b-459c74b09c52",
   "metadata": {},
   "outputs": [
    {
     "data": {
      "text/plain": [
       "dict_keys(['assignment', 'launch_date', 'class_time', 'mentor'])"
      ]
     },
     "execution_count": 33,
     "metadata": {},
     "output_type": "execute_result"
    }
   ],
   "source": [
    "d6.keys()"
   ]
  },
  {
   "cell_type": "code",
   "execution_count": 34,
   "id": "bac7a9ef-e3f6-4470-bd09-59435e57edaf",
   "metadata": {},
   "outputs": [
    {
     "data": {
      "text/plain": [
       "['assignment', 'launch_date', 'class_time', 'mentor']"
      ]
     },
     "execution_count": 34,
     "metadata": {},
     "output_type": "execute_result"
    }
   ],
   "source": [
    "list(d6.keys())"
   ]
  },
  {
   "cell_type": "code",
   "execution_count": 35,
   "id": "d1e8b829-0b9a-442d-8022-0d1127885550",
   "metadata": {},
   "outputs": [
    {
     "data": {
      "text/plain": [
       "dict_values([(1, 2, 3, 4, 5, 6), {28, 12, 14}, {'web dev': 8, 'data science': 8, 'java with dsa system design': 7}, ['sudhanshu', 'krish', 'anurag', 'haider']])"
      ]
     },
     "execution_count": 35,
     "metadata": {},
     "output_type": "execute_result"
    }
   ],
   "source": [
    "d6.values()"
   ]
  },
  {
   "cell_type": "code",
   "execution_count": 36,
   "id": "c123513f-ddb0-4d3d-8769-bf6d9f6d6292",
   "metadata": {},
   "outputs": [
    {
     "data": {
      "text/plain": [
       "[(1, 2, 3, 4, 5, 6),\n",
       " {12, 14, 28},\n",
       " {'web dev': 8, 'data science': 8, 'java with dsa system design': 7},\n",
       " ['sudhanshu', 'krish', 'anurag', 'haider']]"
      ]
     },
     "execution_count": 36,
     "metadata": {},
     "output_type": "execute_result"
    }
   ],
   "source": [
    "list(d6.values())"
   ]
  },
  {
   "cell_type": "code",
   "execution_count": 38,
   "id": "f5971de8-be3b-45cb-8c1d-4f0533450768",
   "metadata": {},
   "outputs": [
    {
     "data": {
      "text/plain": [
       "dict_items([('assignment', (1, 2, 3, 4, 5, 6)), ('launch_date', {28, 12, 14}), ('class_time', {'web dev': 8, 'data science': 8, 'java with dsa system design': 7}), ('mentor', ['sudhanshu', 'krish', 'anurag', 'haider'])])"
      ]
     },
     "execution_count": 38,
     "metadata": {},
     "output_type": "execute_result"
    }
   ],
   "source": [
    "d6.items() \n",
    "\n",
    "# we'll pair of keys and values."
   ]
  },
  {
   "cell_type": "code",
   "execution_count": 40,
   "id": "59f6140a-a5af-4beb-bda8-efb27d0d3859",
   "metadata": {},
   "outputs": [
    {
     "data": {
      "text/plain": [
       "[('assignment', (1, 2, 3, 4, 5, 6)),\n",
       " ('launch_date', {12, 14, 28}),\n",
       " ('class_time',\n",
       "  {'web dev': 8, 'data science': 8, 'java with dsa system design': 7}),\n",
       " ('mentor', ['sudhanshu', 'krish', 'anurag', 'haider'])]"
      ]
     },
     "execution_count": 40,
     "metadata": {},
     "output_type": "execute_result"
    }
   ],
   "source": [
    "list(d6.items())"
   ]
  },
  {
   "cell_type": "code",
   "execution_count": 12,
   "id": "88ad6ae5-559a-44dc-91ef-07a55158ed2f",
   "metadata": {},
   "outputs": [
    {
     "data": {
      "text/plain": [
       "(1, 2, 3, 4, 5, 6)"
      ]
     },
     "execution_count": 12,
     "metadata": {},
     "output_type": "execute_result"
    }
   ],
   "source": [
    "d6.pop('assignment')"
   ]
  },
  {
   "cell_type": "code",
   "execution_count": 13,
   "id": "42bd07f5-233f-4a72-9358-5ee7290aefcd",
   "metadata": {},
   "outputs": [
    {
     "data": {
      "text/plain": [
       "{'number': [2, 34, 3, 34, 34],\n",
       " 'launch_date': {12, 14, 28},\n",
       " 'class_time': {'web dev': 8,\n",
       "  'data science': 8,\n",
       "  'java with dsa system design': 7},\n",
       " 'mentor': ['sudhanshu', 'krish', 'anurag', 'haider']}"
      ]
     },
     "execution_count": 13,
     "metadata": {},
     "output_type": "execute_result"
    }
   ],
   "source": [
    "d6"
   ]
  },
  {
   "cell_type": "code",
   "execution_count": 14,
   "id": "a9b8235d-cb3f-40c2-bb78-aa1872d3e29c",
   "metadata": {},
   "outputs": [
    {
     "ename": "TypeError",
     "evalue": "pop expected at least 1 argument, got 0",
     "output_type": "error",
     "traceback": [
      "\u001b[0;31m---------------------------------------------------------------------------\u001b[0m",
      "\u001b[0;31mTypeError\u001b[0m                                 Traceback (most recent call last)",
      "Cell \u001b[0;32mIn[14], line 1\u001b[0m\n\u001b[0;32m----> 1\u001b[0m \u001b[43md6\u001b[49m\u001b[38;5;241;43m.\u001b[39;49m\u001b[43mpop\u001b[49m\u001b[43m(\u001b[49m\u001b[43m)\u001b[49m\n",
      "\u001b[0;31mTypeError\u001b[0m: pop expected at least 1 argument, got 0"
     ]
    }
   ],
   "source": [
    "d6.pop()"
   ]
  },
  {
   "cell_type": "code",
   "execution_count": 15,
   "id": "7ad81450-7be5-4e04-bb6d-b2c8395363d9",
   "metadata": {},
   "outputs": [
    {
     "data": {
      "text/plain": [
       "{'number': [2, 34, 3, 34, 34],\n",
       " 'launch_date': {12, 14, 28},\n",
       " 'class_time': {'web dev': 8,\n",
       "  'data science': 8,\n",
       "  'java with dsa system design': 7},\n",
       " 'mentor': ['sudhanshu', 'krish', 'anurag', 'haider']}"
      ]
     },
     "execution_count": 15,
     "metadata": {},
     "output_type": "execute_result"
    }
   ],
   "source": [
    "d6"
   ]
  },
  {
   "cell_type": "code",
   "execution_count": 16,
   "id": "406eaa8c-7d10-4cd7-a786-a78067ca58e2",
   "metadata": {},
   "outputs": [],
   "source": [
    "del d6['number']"
   ]
  },
  {
   "cell_type": "code",
   "execution_count": 17,
   "id": "6d88b8ad-b4b8-4b0d-8730-f5acb7d29588",
   "metadata": {},
   "outputs": [
    {
     "data": {
      "text/plain": [
       "{'launch_date': {12, 14, 28},\n",
       " 'class_time': {'web dev': 8,\n",
       "  'data science': 8,\n",
       "  'java with dsa system design': 7},\n",
       " 'mentor': ['sudhanshu', 'krish', 'anurag', 'haider']}"
      ]
     },
     "execution_count": 17,
     "metadata": {},
     "output_type": "execute_result"
    }
   ],
   "source": [
    "d6"
   ]
  },
  {
   "cell_type": "code",
   "execution_count": null,
   "id": "0e682117-2dba-4660-95f1-1e3ce2630453",
   "metadata": {},
   "outputs": [],
   "source": []
  },
  {
   "cell_type": "code",
   "execution_count": null,
   "id": "98c39ba9-cbc8-4ff3-8c88-44a5d189d362",
   "metadata": {},
   "outputs": [],
   "source": []
  },
  {
   "cell_type": "code",
   "execution_count": null,
   "id": "164b3536-71ce-4238-ba80-e884808154ed",
   "metadata": {},
   "outputs": [],
   "source": []
  },
  {
   "cell_type": "code",
   "execution_count": 18,
   "id": "5fc4e0d6-6a32-4921-83b2-41ae4d4bed6b",
   "metadata": {},
   "outputs": [
    {
     "ename": "IndentationError",
     "evalue": "expected an indented block after 'if' statement on line 1 (697025090.py, line 2)",
     "output_type": "error",
     "traceback": [
      "\u001b[0;36m  Cell \u001b[0;32mIn[18], line 2\u001b[0;36m\u001b[0m\n\u001b[0;31m    print('you will a part of A0 batch')\u001b[0m\n\u001b[0m    ^\u001b[0m\n\u001b[0;31mIndentationError\u001b[0m\u001b[0;31m:\u001b[0m expected an indented block after 'if' statement on line 1\n"
     ]
    }
   ],
   "source": [
    "if marks >= 80 :\n",
    "print('you will a part of A0 batch')"
   ]
  },
  {
   "cell_type": "code",
   "execution_count": 13,
   "id": "269000e7-9c4b-471e-b3a0-a2c7ab90f550",
   "metadata": {},
   "outputs": [
    {
     "name": "stdout",
     "output_type": "stream",
     "text": [
      "you will be a part of A3 batch\n"
     ]
    }
   ],
   "source": [
    "marks  = 9\n",
    "if marks >= 80 :\n",
    "    print('you will be a part of A0 batch')\n",
    "elif marks >= 60 and marks < 80 :\n",
    "    print('you will be a part of A1 batch')\n",
    "elif marks >= 40 and marks < 60 :\n",
    "    print('you will be a part of A2 batch')\n",
    "else :\n",
    "    print('you will be a part of A3 batch')"
   ]
  },
  {
   "cell_type": "code",
   "execution_count": 16,
   "id": "c69916f7-2854-4a6c-b2fa-2084df1d27e9",
   "metadata": {},
   "outputs": [
    {
     "name": "stdin",
     "output_type": "stream",
     "text": [
      "enter your marks 45\n"
     ]
    }
   ],
   "source": [
    "marks  = int(input('enter your marks'))"
   ]
  },
  {
   "cell_type": "code",
   "execution_count": 18,
   "id": "888a17f5-fe14-40a2-bb58-bb89230f1453",
   "metadata": {},
   "outputs": [
    {
     "data": {
      "text/plain": [
       "int"
      ]
     },
     "execution_count": 18,
     "metadata": {},
     "output_type": "execute_result"
    }
   ],
   "source": [
    "type(marks)"
   ]
  },
  {
   "cell_type": "code",
   "execution_count": 27,
   "id": "d4d23013-87a8-43ca-ae31-8f98a21dff15",
   "metadata": {},
   "outputs": [
    {
     "name": "stdin",
     "output_type": "stream",
     "text": [
      "enter your marks 90\n"
     ]
    },
    {
     "name": "stdout",
     "output_type": "stream",
     "text": [
      "you will be a part of A0 batch\n"
     ]
    }
   ],
   "source": [
    "marks = int(input('enter your marks'))\n",
    "if marks >= 80 :                            #We start from if.\n",
    "    print('you will be a part of A0 batch')\n",
    "elif marks >= 60 and marks < 80 :\n",
    "    print('you will be a part of A1 batch')\n",
    "elif marks >= 40 and marks < 60 :\n",
    "    print('you will be a part of A2 batch')\n",
    "else :                                      #We end at else.\n",
    "    print('you will be a part of A3 batch')\n",
    "    "
   ]
  },
  {
   "cell_type": "code",
   "execution_count": null,
   "id": "1f661a1c-6593-418e-8be6-c1eb77504a7a",
   "metadata": {},
   "outputs": [],
   "source": []
  },
  {
   "cell_type": "code",
   "execution_count": null,
   "id": "886d4d09-5bc3-4b6e-b140-dd742f295ec8",
   "metadata": {},
   "outputs": [],
   "source": []
  },
  {
   "cell_type": "code",
   "execution_count": null,
   "id": "7f3ab782-1c43-4f79-b230-ecba7be62ea4",
   "metadata": {},
   "outputs": [],
   "source": []
  },
  {
   "cell_type": "code",
   "execution_count": 28,
   "id": "42afa815-6f53-4ad2-b4d7-7f46f928193c",
   "metadata": {},
   "outputs": [
    {
     "name": "stdin",
     "output_type": "stream",
     "text": [
      "enter price 550\n"
     ]
    },
    {
     "name": "stdout",
     "output_type": "stream",
     "text": [
      "I'll purchase\n"
     ]
    }
   ],
   "source": [
    "price = int(input('enter price'))\n",
    "if price > 1000:\n",
    "    print(\"I'll not purchase\")\n",
    "else : \n",
    "    print(\"I'll purchase\")"
   ]
  },
  {
   "cell_type": "code",
   "execution_count": 57,
   "id": "164006fd-3bb5-459a-b58e-802008b59cb7",
   "metadata": {},
   "outputs": [
    {
     "name": "stdin",
     "output_type": "stream",
     "text": [
      "enter price 1000\n"
     ]
    },
    {
     "name": "stdout",
     "output_type": "stream",
     "text": [
      "not interested\n"
     ]
    }
   ],
   "source": [
    "price = int(input('enter price'))\n",
    "if price > 1000:\n",
    "    print(\"I'll not purchase\")\n",
    "    if price > 5000:\n",
    "        print('this is too much')\n",
    "    elif price < 2000 :\n",
    "        print('its ok')\n",
    "elif price < 1000 :\n",
    "    print('i will purchase')\n",
    "else : \n",
    "    print('not interested')"
   ]
  },
  {
   "cell_type": "code",
   "execution_count": 58,
   "id": "9dd015c2-b85e-40ad-9cb5-1c1bf2b9d00d",
   "metadata": {},
   "outputs": [],
   "source": [
    "l = [1,2,3,4,5,6,7,8]"
   ]
  },
  {
   "cell_type": "code",
   "execution_count": 38,
   "id": "047bac9d-fb9e-47b1-a8e1-a75513e7621b",
   "metadata": {},
   "outputs": [
    {
     "data": {
      "text/plain": [
       "2"
      ]
     },
     "execution_count": 38,
     "metadata": {},
     "output_type": "execute_result"
    }
   ],
   "source": [
    "l[0]+1"
   ]
  },
  {
   "cell_type": "code",
   "execution_count": 59,
   "id": "38fe31ee-3a23-4979-a1e1-da7269adce5c",
   "metadata": {},
   "outputs": [],
   "source": [
    "l1 = []"
   ]
  },
  {
   "cell_type": "code",
   "execution_count": 61,
   "id": "be6b50bd-5cc5-471b-bbbd-b3f519933f11",
   "metadata": {},
   "outputs": [],
   "source": [
    "l1.append(l[0]+1)"
   ]
  },
  {
   "cell_type": "code",
   "execution_count": 62,
   "id": "a58e8c93-4164-495c-ad70-3d682402c7d4",
   "metadata": {},
   "outputs": [
    {
     "data": {
      "text/plain": [
       "[2]"
      ]
     },
     "execution_count": 62,
     "metadata": {},
     "output_type": "execute_result"
    }
   ],
   "source": [
    "l1"
   ]
  },
  {
   "cell_type": "code",
   "execution_count": 43,
   "id": "bec5854a-70e6-4b63-9c57-6630486c6e78",
   "metadata": {},
   "outputs": [
    {
     "ename": "TypeError",
     "evalue": "can only concatenate list (not \"int\") to list",
     "output_type": "error",
     "traceback": [
      "\u001b[0;31m---------------------------------------------------------------------------\u001b[0m",
      "\u001b[0;31mTypeError\u001b[0m                                 Traceback (most recent call last)",
      "Cell \u001b[0;32mIn[43], line 1\u001b[0m\n\u001b[0;32m----> 1\u001b[0m \u001b[43ml\u001b[49m\u001b[43m[\u001b[49m\u001b[38;5;241;43m0\u001b[39;49m\u001b[43m:\u001b[49m\u001b[38;5;241;43m8\u001b[39;49m\u001b[43m]\u001b[49m\u001b[43m \u001b[49m\u001b[38;5;241;43m+\u001b[39;49m\u001b[43m \u001b[49m\u001b[38;5;241;43m1\u001b[39;49m\n",
      "\u001b[0;31mTypeError\u001b[0m: can only concatenate list (not \"int\") to list"
     ]
    }
   ],
   "source": [
    "l[0:8] + 1"
   ]
  },
  {
   "cell_type": "code",
   "execution_count": 44,
   "id": "eb72ccbb-8c65-4d4d-ae95-c421af5e42b1",
   "metadata": {},
   "outputs": [
    {
     "data": {
      "text/plain": [
       "[1, 2, 3, 4, 5, 6, 7, 8]"
      ]
     },
     "execution_count": 44,
     "metadata": {},
     "output_type": "execute_result"
    }
   ],
   "source": [
    "l"
   ]
  },
  {
   "cell_type": "code",
   "execution_count": 46,
   "id": "d73ff876-e36b-451e-8174-af8d52879939",
   "metadata": {},
   "outputs": [
    {
     "name": "stdout",
     "output_type": "stream",
     "text": [
      "1\n",
      "2\n",
      "3\n",
      "4\n",
      "5\n",
      "6\n",
      "7\n",
      "8\n"
     ]
    }
   ],
   "source": [
    "for haroon in l:\n",
    "    print(haroon)"
   ]
  },
  {
   "cell_type": "code",
   "execution_count": 66,
   "id": "a8569630-5256-4036-b386-2e093d4c5838",
   "metadata": {},
   "outputs": [
    {
     "name": "stdout",
     "output_type": "stream",
     "text": [
      "2\n",
      "3\n",
      "4\n",
      "5\n",
      "6\n",
      "7\n",
      "8\n",
      "9\n"
     ]
    },
    {
     "data": {
      "text/plain": [
       "[2, 3, 4, 5, 6, 7, 8, 9]"
      ]
     },
     "execution_count": 66,
     "metadata": {},
     "output_type": "execute_result"
    }
   ],
   "source": [
    "l1 = []\n",
    "for i in l :\n",
    "    print(i+1)\n",
    "    l1.append(i+1)\n",
    "l1"
   ]
  },
  {
   "cell_type": "code",
   "execution_count": 67,
   "id": "51123e50-878f-487d-8582-5eabdd822e02",
   "metadata": {},
   "outputs": [
    {
     "data": {
      "text/plain": [
       "[2, 3, 4, 5, 6, 7, 8, 9]"
      ]
     },
     "execution_count": 67,
     "metadata": {},
     "output_type": "execute_result"
    }
   ],
   "source": [
    "l1"
   ]
  },
  {
   "cell_type": "code",
   "execution_count": 68,
   "id": "a14292b8-2ab0-4091-b692-117b446289a9",
   "metadata": {},
   "outputs": [
    {
     "data": {
      "text/plain": [
       "[1, 2, 3, 4, 5, 6, 7, 8]"
      ]
     },
     "execution_count": 68,
     "metadata": {},
     "output_type": "execute_result"
    }
   ],
   "source": [
    "l"
   ]
  },
  {
   "cell_type": "code",
   "execution_count": 69,
   "id": "4ddaab68-445c-4759-9a0d-c48174d20605",
   "metadata": {},
   "outputs": [],
   "source": [
    "l = ['haroon', 'rashid', 'pwskills','course']"
   ]
  },
  {
   "cell_type": "code",
   "execution_count": 72,
   "id": "7fcabed6-0dc3-4cee-a5b6-89c64b989fa4",
   "metadata": {},
   "outputs": [
    {
     "name": "stdout",
     "output_type": "stream",
     "text": [
      "haroon\n",
      "rashid\n",
      "pwskills\n",
      "course\n"
     ]
    }
   ],
   "source": [
    "l1 = []\n",
    "for i in l :\n",
    "    print(i)\n",
    "    l1.append(i.upper())"
   ]
  },
  {
   "cell_type": "code",
   "execution_count": 73,
   "id": "b40a644d-f282-4f01-b97c-a0ec55d048f4",
   "metadata": {},
   "outputs": [
    {
     "data": {
      "text/plain": [
       "['HAROON', 'RASHID', 'PWSKILLS', 'COURSE']"
      ]
     },
     "execution_count": 73,
     "metadata": {},
     "output_type": "execute_result"
    }
   ],
   "source": [
    "l1"
   ]
  },
  {
   "cell_type": "code",
   "execution_count": 74,
   "id": "b99e7d5c-2e63-441f-9b86-4e7e3403d294",
   "metadata": {},
   "outputs": [],
   "source": [
    "l = [1,2,3,4,4,'haroon', 'rashid', 324,34.456,'abc']"
   ]
  },
  {
   "cell_type": "code",
   "execution_count": 76,
   "id": "e7ba7df7-8719-42be-837b-9f9d9bc0e4e7",
   "metadata": {},
   "outputs": [],
   "source": [
    "l1_num = []\n",
    "l2_str = []\n",
    "for i in l :\n",
    "    if type(i) == int or type(i)== float :\n",
    "        l1_num.append(i)\n",
    "    else :\n",
    "        l2_str.append(i)"
   ]
  },
  {
   "cell_type": "code",
   "execution_count": 77,
   "id": "0432c326-65c2-40d9-a3ad-1d8afbcfdd19",
   "metadata": {},
   "outputs": [
    {
     "data": {
      "text/plain": [
       "[1, 2, 3, 4, 4, 324, 34.456]"
      ]
     },
     "execution_count": 77,
     "metadata": {},
     "output_type": "execute_result"
    }
   ],
   "source": [
    "l1_num"
   ]
  },
  {
   "cell_type": "code",
   "execution_count": 78,
   "id": "33a9d01f-ebae-4c10-a4fd-ff05c2466a74",
   "metadata": {},
   "outputs": [
    {
     "data": {
      "text/plain": [
       "['haroon', 'rashid', 'abc']"
      ]
     },
     "execution_count": 78,
     "metadata": {},
     "output_type": "execute_result"
    }
   ],
   "source": [
    "l2_str"
   ]
  },
  {
   "cell_type": "code",
   "execution_count": null,
   "id": "3d9830fe-3bea-4e13-acfb-ffd6edc2ecd8",
   "metadata": {},
   "outputs": [],
   "source": []
  }
 ],
 "metadata": {
  "kernelspec": {
   "display_name": "Python 3 (ipykernel)",
   "language": "python",
   "name": "python3"
  },
  "language_info": {
   "codemirror_mode": {
    "name": "ipython",
    "version": 3
   },
   "file_extension": ".py",
   "mimetype": "text/x-python",
   "name": "python",
   "nbconvert_exporter": "python",
   "pygments_lexer": "ipython3",
   "version": "3.10.8"
  }
 },
 "nbformat": 4,
 "nbformat_minor": 5
}
